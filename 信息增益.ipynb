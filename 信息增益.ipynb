{
 "cells": [
  {
   "cell_type": "code",
   "execution_count": 60,
   "metadata": {},
   "outputs": [],
   "source": [
    "import numpy as np\n",
    "import math\n",
    "import collections\n",
    "import copy"
   ]
  },
  {
   "cell_type": "code",
   "execution_count": 62,
   "metadata": {},
   "outputs": [],
   "source": [
    "#DataSet :二维列表\n",
    "#FeatureName :一维列表，数据集所有的特征变量名称\n",
    "#return ：特征变量的信息增益\n",
    "def infoGain(DataSet=None,FeatureName=None):\n",
    "    if len(DataSet[0]) == 1:\n",
    "        print('至少输入至少一个特征和一个决策')\n",
    "        return\n",
    "    else:\n",
    "        #经验熵===========\n",
    "        label_counter = collections.Counter([data[-1] for data in dataSet])\n",
    "        probs = [p[1]/len(dataSet) for p in label_counter.items()]\n",
    "        experimental_entropy = -sum([p_i*math.log2(p_i) for p_i in probs])\n",
    "        #================\n",
    "        decision = [p[0] for p in label_counter.items()]#决策标签\n",
    "        #条件熵===========\n",
    "        feature_counter_list = []\n",
    "        record_size = len(dataSet[0])\n",
    "        Di = []#EX：Di[0]根据第0个特征值划分数据集，字典类型{特征值取值:样本数量}\n",
    "        for i in range(record_size-1):\n",
    "            counter_temp = collections.Counter(data[i] for data in dataSet)\n",
    "            Di.append(counter_temp)\n",
    "        Di_probs = copy.deepcopy(Di)\n",
    "        for j in range(len(Di_probs)):\n",
    "            vals = Di_probs[j].values()\n",
    "            keys = Di_probs[j].keys()\n",
    "            valsum = sum(vals)\n",
    "            for k in keys:\n",
    "                Di_probs[j][k] = Di[j][k]/valsum\n",
    "        Dik = []#EX Dik[0]，根据第0个特征值和样本标签划分数据集，字典类型{(特征值取值，样本标签):样本数量}\n",
    "        for i in range(record_size-1):\n",
    "            counter_temp = collections.Counter((data[i],data[-1]) for data in dataSet)\n",
    "            Dik.append(counter_temp)\n",
    "        condition_entropy_list = []#条件熵列表\n",
    "        for k in range(len(Di_probs)):\n",
    "            TempList = []\n",
    "            for m in Di_probs[k].keys():\n",
    "                DikMod = [Dik[k][(m,t)] for t in decision]\n",
    "                DiMod = Di[k][m]\n",
    "                Val = Di_probs[k][m] * sum([num/DiMod*math.log2(num/DiMod) if num!=0 else 0 for num in DikMod])\n",
    "                TempList.append(Val)\n",
    "            condition_entropy_list.append(-sum(TempList))\n",
    "        #信息增益======\n",
    "        g_DA = []#数据集变量的信息增益列表\n",
    "        for p in range(len(FeatureName)):\n",
    "            g_DA.append({FeatureName[p]:experimental_entropy - condition_entropy_list[p]})\n",
    "        return g_DA"
   ]
  },
  {
   "cell_type": "code",
   "execution_count": 64,
   "metadata": {},
   "outputs": [
    {
     "data": {
      "text/plain": [
       "[{'年龄': 0.08300749985576883},\n",
       " {'有工作': 0.32365019815155627},\n",
       " {'有房': 0.4199730940219749},\n",
       " {'信贷情况': 0.36298956253708536}]"
      ]
     },
     "execution_count": 64,
     "metadata": {},
     "output_type": "execute_result"
    }
   ],
   "source": [
    "#            年龄  |有工作|  有房  |信贷情况|放贷\n",
    "dataSet = [['青年','否(w)','否(h)','一般 ','no'],\n",
    "           ['青年','否(w)','否(h)',' 好 ','no'],\n",
    "           ['青年','是(w)','否(h)',' 好 ','yes'],\n",
    "           ['青年','是(w)','是(h)','一般 ','yes'],\n",
    "           ['青年','否(w)','否(h)','一般 ','no'],\n",
    "           ['中年','否(w)','否(h)','一般 ','no'],\n",
    "           ['中年','否(w)','否(h)',' 好 ','no'],\n",
    "           ['中年','是(w)','是(h)',' 好 ','yes'],\n",
    "           ['中年','否(w)','是(h)','非常好','yes'],\n",
    "           ['中年','否(w)','是(h)','非常好','yes'],\n",
    "           ['老年','否(w)','是(h)','非常好','yes'],\n",
    "           ['老年','否(w)','是(h)',' 好 ','yes'],\n",
    "           ['老年','是(w)','否(h)',' 好 ','yes'],\n",
    "           ['老年','是(w)','否(h)','非常好','yes'],\n",
    "           ['老年','否(w)','否(h)','一般 ','no']]\n",
    "featureName = ['年龄','有工作','有房','信贷情况']\n",
    "infoGain(DataSet=dataSet,FeatureName=featureName)"
   ]
  }
 ],
 "metadata": {
  "kernelspec": {
   "display_name": "Python 3",
   "language": "python",
   "name": "python3"
  },
  "language_info": {
   "codemirror_mode": {
    "name": "ipython",
    "version": 3
   },
   "file_extension": ".py",
   "mimetype": "text/x-python",
   "name": "python",
   "nbconvert_exporter": "python",
   "pygments_lexer": "ipython3",
   "version": "3.7.0"
  },
  "toc": {
   "base_numbering": 1,
   "nav_menu": {},
   "number_sections": true,
   "sideBar": true,
   "skip_h1_title": false,
   "title_cell": "Table of Contents",
   "title_sidebar": "Contents",
   "toc_cell": false,
   "toc_position": {},
   "toc_section_display": true,
   "toc_window_display": false
  }
 },
 "nbformat": 4,
 "nbformat_minor": 2
}
